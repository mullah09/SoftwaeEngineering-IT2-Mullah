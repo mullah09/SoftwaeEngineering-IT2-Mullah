{
  "nbformat": 4,
  "nbformat_minor": 0,
  "metadata": {
    "colab": {
      "name": "check the number divided by 3 or 5.ipynb",
      "provenance": [],
      "collapsed_sections": [],
      "authorship_tag": "ABX9TyPXuLPIEji+UZu248E9UHgU",
      "include_colab_link": true
    },
    "kernelspec": {
      "name": "python3",
      "display_name": "Python 3"
    },
    "language_info": {
      "name": "python"
    }
  },
  "cells": [
    {
      "cell_type": "markdown",
      "metadata": {
        "id": "view-in-github",
        "colab_type": "text"
      },
      "source": [
        "<a href=\"https://colab.research.google.com/github/mullah09/SoftwareEngineering-IT2-Mullah/blob/main/task2-check_the_number_divided_by_3_or_5.ipynb\" target=\"_parent\"><img src=\"https://colab.research.google.com/assets/colab-badge.svg\" alt=\"Open In Colab\"/></a>"
      ]
    },
    {
      "cell_type": "code",
      "metadata": {
        "id": "MniCagQCzdla"
      },
      "source": [
        "#displays numbers below 1000 divided by 3 or 5\n",
        "for n in range(1,1000):\n",
        "    if n % 3 == 0 or n % 5 == 0:\n",
        "        print(n)\n"
      ],
      "execution_count": null,
      "outputs": []
    },
    {
      "cell_type": "code",
      "metadata": {
        "id": "lGCj26ZD2IVL",
        "colab": {
          "base_uri": "https://localhost:8080/"
        },
        "outputId": "eb03a0d4-3455-43da-f87c-4ce5580fb11a"
      },
      "source": [
        "#check the number divided by 3 or 5\n",
        "while True:\n",
        "  n = int(input(\"enter the value: \"))\n",
        "  a = n/3\n",
        "  b = n/5\n",
        "  if n == 0:\n",
        "    break\n",
        "  elif n % 3 == 0 and n % 5 == 0:\n",
        "    print(a, \"> divided by 3 \")\n",
        "    print(b, \"> divided by 5\")\n",
        "  elif n % 3 == 0:\n",
        "    print(a, \"> divided by 3\")\n",
        "  elif n % 5 == 0:\n",
        "    print(b, \"> divided by 5\")\n",
        "  else:\n",
        "    print(\"Not divided by 3 and 5\")\n"
      ],
      "execution_count": 4,
      "outputs": [
        {
          "name": "stdout",
          "output_type": "stream",
          "text": [
            "enter the value: 7\n",
            "Not divided by 3 and 5\n",
            "enter the value: 0\n"
          ]
        }
      ]
    }
  ]
}